{
  "cells": [
    {
      "cell_type": "markdown",
      "metadata": {},
      "source": [
        "# Hydrology skill - Vistula river\n",
        "\n",
        "[![Open In Colab](https://colab.research.google.com/assets/colab-badge.svg)](https://colab.research.google.com/github/DHI/modelskill-release-webinar/blob/main/Hydrology.ipynb)\n"
      ]
    },
    {
      "cell_type": "code",
      "execution_count": null,
      "metadata": {
        "colab": {
          "base_uri": "https://localhost:8080/"
        },
        "id": "zql8LEIjLLl8",
        "outputId": "12b96ca6-8dd0-428b-e549-3c6ee593ed45"
      },
      "outputs": [],
      "source": [
        "!git clone https://github.com/DHI/modelskill-release-webinar"
      ]
    },
    {
      "cell_type": "code",
      "execution_count": null,
      "metadata": {
        "id": "a5ny7SvoLim8"
      },
      "outputs": [],
      "source": [
        "!cp -r modelskill-release-webinar/examples/ examples/"
      ]
    },
    {
      "cell_type": "code",
      "execution_count": null,
      "metadata": {
        "colab": {
          "base_uri": "https://localhost:8080/"
        },
        "id": "EmuRxFD0LTcD",
        "outputId": "7e9b7bd0-5ca7-4033-b2e2-9dd77bcd45fc"
      },
      "outputs": [],
      "source": [
        "!pip install modelskill mapclassify"
      ]
    },
    {
      "cell_type": "code",
      "execution_count": null,
      "metadata": {
        "id": "OjZIVSr9LY8U"
      },
      "outputs": [],
      "source": [
        "import pandas as pd\n",
        "import mikeio\n",
        "import modelskill as ms"
      ]
    },
    {
      "cell_type": "code",
      "execution_count": null,
      "metadata": {
        "colab": {
          "base_uri": "https://localhost:8080/"
        },
        "id": "2PWKOVIILc7O",
        "outputId": "049992bb-9c4d-47a1-d4e5-013adeabbb82"
      },
      "outputs": [],
      "source": [
        "idx = 6458010\n",
        "\n",
        "ds = mikeio.read(f\"examples/hydrology/data/{idx}.dfs0\")\n",
        "ds\n"
      ]
    },
    {
      "cell_type": "code",
      "execution_count": null,
      "metadata": {
        "colab": {
          "base_uri": "https://localhost:8080/"
        },
        "id": "Ghp70xPvL5tf",
        "outputId": "a39007d7-2e30-4c76-e6a7-09c7e867b909"
      },
      "outputs": [],
      "source": [
        "cmp = ms.from_matched(\"examples/hydrology/data/6458010.dfs0\", obs_item=0, mod_items=[1,2], name=\"TCEW\")\n",
        "cmp"
      ]
    },
    {
      "cell_type": "code",
      "execution_count": null,
      "metadata": {
        "colab": {
          "base_uri": "https://localhost:8080/",
          "height": 542
        },
        "id": "mQz32AtkL7nJ",
        "outputId": "dd9115f1-58aa-4753-831c-c93bb10d10db"
      },
      "outputs": [],
      "source": [
        "cmp.plot.timeseries(backend=\"plotly\")"
      ]
    },
    {
      "cell_type": "code",
      "execution_count": null,
      "metadata": {
        "colab": {
          "base_uri": "https://localhost:8080/",
          "height": 1000
        },
        "id": "0cndGPCNL9r0",
        "outputId": "15cd5a8d-e0db-49b9-c9d1-50a8c09f1327"
      },
      "outputs": [],
      "source": [
        "cmp.plot.scatter();\n",
        "#cmp.plot.scatter(backend=\"plotly\", skill_table=True);"
      ]
    },
    {
      "cell_type": "code",
      "execution_count": null,
      "metadata": {
        "colab": {
          "base_uri": "https://localhost:8080/",
          "height": 472
        },
        "id": "_KC8bIIFMBQS",
        "outputId": "6609202d-90a5-4263-bfc9-3f83f95d2c4d"
      },
      "outputs": [],
      "source": [
        "cmp.plot.kde();"
      ]
    },
    {
      "cell_type": "code",
      "execution_count": null,
      "metadata": {
        "colab": {
          "base_uri": "https://localhost:8080/",
          "height": 472
        },
        "id": "CLbHwZTsMCzX",
        "outputId": "35f345c5-1e24-4afa-936f-1a9337f9109a"
      },
      "outputs": [],
      "source": [
        "cmp.plot.qq();"
      ]
    },
    {
      "cell_type": "code",
      "execution_count": null,
      "metadata": {
        "colab": {
          "base_uri": "https://localhost:8080/",
          "height": 143
        },
        "id": "OgNRC7cpMEJT",
        "outputId": "bb9e8ab8-a445-4814-945b-97d635100dd6"
      },
      "outputs": [],
      "source": [
        "cmp.skill()"
      ]
    },
    {
      "cell_type": "code",
      "execution_count": null,
      "metadata": {
        "colab": {
          "base_uri": "https://localhost:8080/",
          "height": 143
        },
        "id": "jd-ILR5FMGP8",
        "outputId": "750307b2-6676-4946-a399-1c729b0fb03f"
      },
      "outputs": [],
      "source": [
        "cmp.skill(metrics=[\"kge\",\"cc\"])"
      ]
    },
    {
      "cell_type": "markdown",
      "metadata": {
        "id": "kyAc6L3g1ojc"
      },
      "source": [
        "<https://dhi.github.io/modelskill/api/metrics/>"
      ]
    },
    {
      "cell_type": "code",
      "execution_count": null,
      "metadata": {
        "id": "355gHlOp1WMo"
      },
      "outputs": [],
      "source": [
        "from modelskill import options\n",
        "\n",
        "options.metrics.list = [\"kge\",\"willmott\",\"spearmanr\"]"
      ]
    },
    {
      "cell_type": "code",
      "execution_count": null,
      "metadata": {
        "colab": {
          "base_uri": "https://localhost:8080/",
          "height": 143
        },
        "id": "BldGHwOi2H3m",
        "outputId": "901e275c-2c39-4828-f2dd-115d33891dec"
      },
      "outputs": [],
      "source": [
        "cmp.skill()"
      ]
    },
    {
      "cell_type": "code",
      "execution_count": null,
      "metadata": {
        "colab": {
          "base_uri": "https://localhost:8080/",
          "height": 559
        },
        "id": "cpASQQK20cqZ",
        "outputId": "a96dc7e9-ec2c-40cf-bc3b-ae5dcd5ff49a"
      },
      "outputs": [],
      "source": [
        "cmp.skill(by=\"freq:A\").kge.plot.line()\n"
      ]
    },
    {
      "cell_type": "code",
      "execution_count": null,
      "metadata": {
        "colab": {
          "base_uri": "https://localhost:8080/",
          "height": 475
        },
        "id": "eCmQWHyEzq6d",
        "outputId": "ad7806ad-23d5-4aee-ba10-fa37c00b1935"
      },
      "outputs": [],
      "source": [
        "cmp.skill(metrics=[\"kge\"], by=\"dt:month\").kge.plot.bar();"
      ]
    },
    {
      "cell_type": "markdown",
      "metadata": {
        "id": "EODeIKlIzkhL"
      },
      "source": [
        "## Many locations"
      ]
    },
    {
      "cell_type": "code",
      "execution_count": null,
      "metadata": {
        "colab": {
          "base_uri": "https://localhost:8080/",
          "height": 206
        },
        "id": "mezbtK5iMH5l",
        "outputId": "dcb7c1e7-55dd-4498-979a-ebedcfe39594"
      },
      "outputs": [],
      "source": [
        "stations = pd.read_csv(\"examples/hydrology/stations.csv\").sort_values(\"weight\", ascending=False)\n",
        "stations.head()"
      ]
    },
    {
      "cell_type": "code",
      "execution_count": null,
      "metadata": {
        "id": "Zco6YbI4MJZY"
      },
      "outputs": [],
      "source": [
        "cmps = []\n",
        "for _, row in stations.iterrows():\n",
        "    cmp = ms.from_matched(f\"examples/hydrology/data/{row.id}.dfs0\",x=row.lon,y=row.lat,obs_item=0, mod_items=[1,2], name=row['name'])\n",
        "    cmp.data.attrs[\"gtype\"] = \"point\" # temp work-around\n",
        "    cmps.append(cmp)"
      ]
    },
    {
      "cell_type": "code",
      "execution_count": null,
      "metadata": {
        "colab": {
          "base_uri": "https://localhost:8080/"
        },
        "id": "_pZBEGK4MKvs",
        "outputId": "e67ae09c-8425-4589-c9aa-60cf7e450092"
      },
      "outputs": [],
      "source": [
        "cc = ms.ComparerCollection(cmps)\n",
        "cc"
      ]
    },
    {
      "cell_type": "code",
      "execution_count": null,
      "metadata": {
        "colab": {
          "base_uri": "https://localhost:8080/"
        },
        "id": "fp_a334MML2u",
        "outputId": "4ff5f93a-29b5-4dc7-f755-661bd4fc0315"
      },
      "outputs": [],
      "source": [
        "weights = dict(zip(stations.name, stations.weight))\n",
        "weights"
      ]
    },
    {
      "cell_type": "code",
      "execution_count": null,
      "metadata": {
        "colab": {
          "base_uri": "https://localhost:8080/"
        },
        "id": "ukgvULKuMM4T",
        "outputId": "659afc20-319f-4fd5-db08-5a25395873d8"
      },
      "outputs": [],
      "source": [
        "cc.score(metric=\"kge\", weights='equal')"
      ]
    },
    {
      "cell_type": "code",
      "execution_count": null,
      "metadata": {
        "colab": {
          "base_uri": "https://localhost:8080/"
        },
        "id": "lphXTPj8MN_0",
        "outputId": "64bf1340-1a5a-4f51-a3aa-05c04c15ceed"
      },
      "outputs": [],
      "source": [
        "cc.score(metric=\"kge\", weights=weights)"
      ]
    },
    {
      "cell_type": "code",
      "execution_count": null,
      "metadata": {
        "colab": {
          "base_uri": "https://localhost:8080/",
          "height": 469
        },
        "id": "gMa1yadTMQjG",
        "outputId": "23098f09-9eca-4e40-dfa3-a73007bc9a02"
      },
      "outputs": [],
      "source": [
        "cc.skill(metrics=\"kge\")[\"kge\"].plot.barh()"
      ]
    },
    {
      "cell_type": "code",
      "execution_count": null,
      "metadata": {
        "colab": {
          "base_uri": "https://localhost:8080/",
          "height": 520
        },
        "id": "frmemD9RMPUi",
        "outputId": "76afc834-67ee-45e5-8791-15c2f6b028d1"
      },
      "outputs": [],
      "source": [
        "gdf = (cc.sel(model=\"sim1\")\n",
        "        .skill(metrics=\"kge\")\n",
        "        .to_geodataframe()\n",
        ")\n",
        "gdf"
      ]
    },
    {
      "cell_type": "code",
      "execution_count": null,
      "metadata": {
        "colab": {
          "base_uri": "https://localhost:8080/",
          "height": 885
        },
        "id": "uMYgG7dtMRtT",
        "outputId": "6110bfd9-ad55-411d-f78f-886a0ba89999"
      },
      "outputs": [],
      "source": [
        "gdf.explore(\"kge\", marker_kwds={\"radius\":10}, tiles=\"CartoDB positron\", cmap=\"RdYlGn\")"
      ]
    },
    {
      "cell_type": "code",
      "execution_count": null,
      "metadata": {
        "colab": {
          "base_uri": "https://localhost:8080/",
          "height": 206
        },
        "id": "GodUe5F1MS-e",
        "outputId": "b9bab6fe-f87b-434a-a215-721e6285fbb6"
      },
      "outputs": [],
      "source": [
        "import plotly.express as px\n",
        "\n",
        "sdf = (cc.skill(metrics=\"kge\")\n",
        "         .to_dataframe()\n",
        "         .sort_values(\"kge\", ascending=True)\n",
        "         .reset_index()\n",
        "         .replace({\"sim2\": \"HiFi\", \"sim1\": \"LoFi\"})\n",
        ")\n",
        "sdf.head()"
      ]
    },
    {
      "cell_type": "code",
      "execution_count": null,
      "metadata": {
        "colab": {
          "base_uri": "https://localhost:8080/",
          "height": 542
        },
        "id": "fDClIxozSUOv",
        "outputId": "d3cfb8ab-833d-47fd-956d-821ff3b56d1d"
      },
      "outputs": [],
      "source": [
        "fig = px.scatter(sdf, x=\"kge\", y=\"observation\",color='model', symbol='model', width=800)\n",
        "fig.update_layout(yaxis_title=\"\", xaxis_title=\"KGE (-)\")"
      ]
    },
    {
      "cell_type": "code",
      "execution_count": null,
      "metadata": {
        "id": "FDuy_KkMTS20"
      },
      "outputs": [],
      "source": []
    }
  ],
  "metadata": {
    "colab": {
      "provenance": []
    },
    "kernelspec": {
      "display_name": "Python 3",
      "name": "python3"
    },
    "language_info": {
      "name": "python"
    }
  },
  "nbformat": 4,
  "nbformat_minor": 0
}
